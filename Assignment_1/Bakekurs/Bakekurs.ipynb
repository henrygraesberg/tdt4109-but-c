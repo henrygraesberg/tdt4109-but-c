{
 "cells": [
  {
   "cell_type": "markdown",
   "metadata": {
    "deletable": false,
    "editable": false,
    "run_control": {
     "frozen": true
    }
   },
   "source": [
    "<nav class=\"navbar navbar-default\">\n",
    "  <div class=\"container-fluid\">\n",
    "    <div class=\"navbar-header\">\n",
    "      <a class=\"navbar-brand\" href=\"_Oving1.ipynb\">Øving 1</a>\n",
    "    </div>\n",
    "    <ul class=\"nav navbar-nav\">\n",
    "        <li><a href=\"Intro%20til%20jupyter.ipynb\">Intro til Jupyter</a></li>\n",
    "      <li ><a href=\"Jeg%20elsker%20ITGK!.ipynb\">Jeg elsker ITGK!</a></li>\n",
    "    <li ><a href=\"Kalkulasjoner.ipynb\">Kalkulasjoner</a></li>\n",
    "    <li><a href=\"Input%20og%20variable.ipynb\">Input og variable</a></li>\n",
    "    <li><a href=\"Tallkonvertering.ipynb\">Tallkonvertering</a></li>\n",
    "    <li ><a href=\"Peppes%20Pizza.ipynb\">Peppes Pizza</a></li>\n",
    "    <li ><a href=\"Geometri.ipynb\">Geometri</a></li>\n",
    "    <li ><a href=\"Vitenskapelig%20notasjon.ipynb\">Vitenskapelig notasjon</a></li>\n",
    "    <li ><a href=\"Tetraeder.ipynb\">Tetraeder</a></li>\n",
    "    <li class=\"active\"><a href=\"Bakekurs.ipynb\">Bakekurs</a></li>\n",
    "    <li ><a href=\"James%20Bond%20and%20Operation%20round().ipynb\">James Bond and Operation Round</a></li>\n",
    "    </ul>\n",
    "  </div>\n",
    "</nav>\n",
    "\n",
    "# Bakekurs\n",
    "\n",
    "**Læringsmål:**\n",
    "\n",
    "* Printe ut tekst til skjerm på en fin måte\n",
    "\n",
    "* Kalkulasjoner i Python\n",
    "\n",
    "**Starting Out with Python:**\n",
    "\n",
    "* Kap. 2.3\n",
    "\n",
    "* Kap. 2.8\n",
    "\n",
    "* Kap. 8\n",
    "\n",
    "I denne oppgaven skal du beregne mengden ingredienser som trengs for å lage cookies og printe resultatet på et fint format. \n",
    "\n",
    "Du skal lage cookies og har en oppskrift som gir 48 cookies. Den oppskriften krever følgende ingredienser:\n",
    "\n",
    "* 400 g sukker \n",
    "* 320 g smør\n",
    "* 500 g sjokolade\n",
    "* 2 egg \n",
    "* 460 g hvetemel "
   ]
  },
  {
   "cell_type": "markdown",
   "metadata": {
    "deletable": false,
    "editable": false,
    "run_control": {
     "frozen": true
    }
   },
   "source": [
    "## a)"
   ]
  },
  {
   "cell_type": "markdown",
   "metadata": {
    "deletable": false,
    "editable": false,
    "run_control": {
     "frozen": true
    }
   },
   "source": [
    "Spør brukeren om hvor mange cookies han eller hun ønsker å bake og skriv ut hvor mange ingredienser som trengs for å lage så mange cookies.\n",
    "\n",
    "Eksempel på kjøring:\n",
    "\n",
    "  \n",
    "```python\n",
    "Hvor mange cookies ønsker du å bake? 24\n",
    "Antall cookies: 24 \n",
    "sukker(g): 200.0\n",
    "smør(g): 160.0\n",
    "sjokolade(g): 250.0\n",
    "egg: 1.0\n",
    "hvetemel(g): 230.0\n",
    "```\n",
    "    \n",
    "***Skriv koden din i blokka under.***"
   ]
  },
  {
   "cell_type": "code",
   "execution_count": 1,
   "metadata": {},
   "outputs": [
    {
     "name": "stdout",
     "output_type": "stream",
     "text": [
      "sukker(g): 8.333333333333334\n",
      "smør(g): 6.666666666666667\n",
      "sjokolade(g): 10.416666666666666\n",
      "egg: 0.041666666666666664\n",
      "hvetemel(g): 9.583333333333334\n"
     ]
    }
   ],
   "source": [
    "cookie_recipe = {\n",
    "    \"sukker(g)\": 400/48,\n",
    "    \"smør(g)\": 320/48,\n",
    "    \"sjokolade(g)\": 500/48,\n",
    "    \"egg\": 2/48,\n",
    "    \"hvetemel(g)\": 460/48\n",
    "}\n",
    "\n",
    "cookie_count = int(input(\"Hvor mange cookies ønsker du å bake?\"))\n",
    "\n",
    "for key in list(cookie_recipe):\n",
    "    print(f'{key}: {cookie_recipe[key] * cookie_count}')"
   ]
  },
  {
   "cell_type": "markdown",
   "metadata": {
    "deletable": false,
    "editable": false,
    "heading_collapsed": true,
    "run_control": {
     "frozen": true
    }
   },
   "source": [
    "#### Tips til oppgave a: Escape Character"
   ]
  },
  {
   "cell_type": "markdown",
   "metadata": {
    "deletable": false,
    "editable": false,
    "hidden": true,
    "run_control": {
     "frozen": true
    }
   },
   "source": [
    "`\\n` er nyttig å bruke her for å få en ny linje! Eks. `print(“hei\\npå\\ndeg”)` gir\n",
    "\n",
    "**Utskrift**\n",
    "  \n",
    "```\n",
    "hei  \n",
    "på  \n",
    "deg\n",
    "```"
   ]
  },
  {
   "cell_type": "markdown",
   "metadata": {
    "deletable": false,
    "editable": false,
    "run_control": {
     "frozen": true
    }
   },
   "source": [
    "## b)"
   ]
  },
  {
   "cell_type": "markdown",
   "metadata": {
    "deletable": false,
    "editable": false,
    "run_control": {
     "frozen": true
    }
   },
   "source": [
    "Be brukeren om hvor mange cookies han eller hun ønsker å lage tre ganger og skriv ut ingrediensene på en fin og elegant måte. Du trenger kun å skrive ut antall cookies, og hvor mye sjokolade og sukker som trengs i gram.\n",
    "\n",
    "Eksempel på kjøring:\n",
    "\n",
    "  \n",
    "```python\n",
    "Hvor mange cookies vil du lage? 24\n",
    "og hvor mange cookies vil du lage nå? 48\n",
    "og hvor mange cookies vil du lage til slutt? 72\n",
    "Antall cookies:        sukker(g)    sjokolade(g)\n",
    "24                         200.0           250.0\n",
    "48                         400.0           500.0\n",
    "72                         600.0           750.0\n",
    "```\n",
    "\n",
    "`rjust()` og `ljust()` er nyttige funksjoner her, men for å bruke dem må man først konvertere antall cookies til en streng vha. `str()`. Andre ting som kan være nyttig er `\\t` som lager et innrykk i teksten.\n",
    "\n",
    "***Skriv koden din i blokka under.***"
   ]
  },
  {
   "cell_type": "code",
   "execution_count": 15,
   "metadata": {},
   "outputs": [
    {
     "name": "stdout",
     "output_type": "stream",
     "text": [
      "Antall cookies       sukker(g)    sjokolade(g)\n",
      "12                       100.0           125.0\n",
      "24                       200.0           250.0\n",
      "48                       400.0           500.0\n"
     ]
    }
   ],
   "source": [
    "cookie_recipe = {\n",
    "    \"sukker(g)\": 400/48,\n",
    "    \"smør(g)\": 320/48,\n",
    "    \"sjokolade(g)\": 500/48,\n",
    "    \"egg\": 2/48,\n",
    "    \"hvetemel(g)\": 460/48\n",
    "}\n",
    "\n",
    "cookie_count = [\n",
    "    int(input(\"Hvor mange cookies vil du å bake?\")),\n",
    "    int(input(\"Hvor mange cookies vil du å lage nå?\")),\n",
    "    int(input(\"Hvor mange cookies vil du å lage til slutt?\")),    \n",
    "    ]\n",
    "\n",
    "print(\"Antall cookies\".ljust(20), \"sukker(g)\".ljust(12), \"sjokolade(g)\")\n",
    "for value in cookie_count:\n",
    "    print(str(value).ljust(24),\n",
    "          str(cookie_recipe[\"sukker(g)\"] * value).ljust(15),\n",
    "          str(cookie_recipe[\"sjokolade(g)\"] * value))"
   ]
  },
  {
   "cell_type": "markdown",
   "metadata": {
    "deletable": false,
    "editable": false,
    "heading_collapsed": true,
    "run_control": {
     "frozen": true
    }
   },
   "source": [
    "#### ljust() og rjust()"
   ]
  },
  {
   "cell_type": "markdown",
   "metadata": {
    "deletable": false,
    "editable": false,
    "hidden": true,
    "run_control": {
     "frozen": true
    }
   },
   "source": [
    "`streng.ljust(width)` returnerer strengen \"left justified\" i en streng av lengde `width`. \n",
    "\n",
    "`streng.rjust(width)` gjør det sammen bare at strengen blir \"right justified\". For eksempel blir `print('hei'.rjust(15))` til:\n",
    "\n",
    "  \n",
    "```python\n",
    "           hei      #teksten printes altså ut etter 12 white spaces, ettersom strengen har lengde 3\n",
    "```\n",
    "    \n",
    "Du kan lese mer om `rjust()` og `ljust()` [her](https://docs.python.org/2/library/stdtypes.html?highlight=rjust#str.rjust). "
   ]
  }
 ],
 "metadata": {
  "kernelspec": {
   "display_name": "Python 3",
   "language": "python",
   "name": "python3"
  },
  "language_info": {
   "codemirror_mode": {
    "name": "ipython",
    "version": 3
   },
   "file_extension": ".py",
   "mimetype": "text/x-python",
   "name": "python",
   "nbconvert_exporter": "python",
   "pygments_lexer": "ipython3",
   "version": "3.12.5"
  },
  "toc": {
   "base_numbering": 1,
   "nav_menu": {},
   "number_sections": false,
   "sideBar": true,
   "skip_h1_title": false,
   "title_cell": "Table of Contents",
   "title_sidebar": "Contents",
   "toc_cell": false,
   "toc_position": {},
   "toc_section_display": true,
   "toc_window_display": false
  }
 },
 "nbformat": 4,
 "nbformat_minor": 2
}
